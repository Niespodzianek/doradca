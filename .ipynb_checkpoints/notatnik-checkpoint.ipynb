{
 "cells": [
  {
   "cell_type": "code",
   "execution_count": null,
   "id": "8b4f8d54-b658-4e95-ba1a-a12ff6ad7b57",
   "metadata": {},
   "outputs": [],
   "source": [
    "import pandas as pd\n",
    "import yfinance as yf"
   ]
  },
  {
   "cell_type": "code",
   "execution_count": null,
   "id": "12356c2a-e8a4-4d13-b560-d9fb2b905bbb",
   "metadata": {},
   "outputs": [],
   "source": [
    "dat = yf.Ticker(\"MSFT\")"
   ]
  },
  {
   "cell_type": "code",
   "execution_count": null,
   "id": "329676b4-cb80-4dc0-b84c-93a0e4cf461b",
   "metadata": {},
   "outputs": [],
   "source": [
    "dane = dat.history(period=\"max\")\n",
    "dane.reset_index(inplace=True)"
   ]
  },
  {
   "cell_type": "code",
   "execution_count": null,
   "id": "573f8931-24b0-4e76-93c9-d4b9d3773484",
   "metadata": {},
   "outputs": [],
   "source": [
    "dane[\"Obrot\"] = dane.Close * dane.Volume"
   ]
  },
  {
   "cell_type": "code",
   "execution_count": null,
   "id": "4ba54b38-88a8-4aab-921a-1452c9ed1d66",
   "metadata": {},
   "outputs": [],
   "source": [
    "dane.to_parquet(\"msft.parquet\")"
   ]
  }
 ],
 "metadata": {
  "kernelspec": {
   "display_name": "Python 3 (ipykernel)",
   "language": "python",
   "name": "python3"
  },
  "language_info": {
   "codemirror_mode": {
    "name": "ipython",
    "version": 3
   },
   "file_extension": ".py",
   "mimetype": "text/x-python",
   "name": "python",
   "nbconvert_exporter": "python",
   "pygments_lexer": "ipython3",
   "version": "3.11.3"
  }
 },
 "nbformat": 4,
 "nbformat_minor": 5
}
