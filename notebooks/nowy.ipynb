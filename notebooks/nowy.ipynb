{
 "cells": [
  {
   "metadata": {
    "trusted": true
   },
   "cell_type": "code",
   "source": "import yfinance\nimport pandas",
   "execution_count": 1,
   "outputs": []
  },
  {
   "metadata": {
    "trusted": true
   },
   "cell_type": "code",
   "source": "dane = yfinance.Ticker(\"MSFT\")",
   "execution_count": 2,
   "outputs": []
  },
  {
   "metadata": {
    "trusted": true
   },
   "cell_type": "code",
   "source": "notowania = pandas.read_parquet(\"aapl.parquet\")",
   "execution_count": 9,
   "outputs": []
  },
  {
   "metadata": {
    "trusted": true
   },
   "cell_type": "code",
   "source": "notowania",
   "execution_count": 10,
   "outputs": [
    {
     "output_type": "execute_result",
     "execution_count": 10,
     "data": {
      "text/plain": "                           Date        Open        High         Low  \\\n0     1980-12-12 00:00:00-05:00    0.098726    0.099155    0.098726   \n1     1980-12-15 00:00:00-05:00    0.094005    0.094005    0.093575   \n2     1980-12-16 00:00:00-05:00    0.087136    0.087136    0.086707   \n3     1980-12-17 00:00:00-05:00    0.088853    0.089282    0.088853   \n4     1980-12-18 00:00:00-05:00    0.091429    0.091858    0.091429   \n...                         ...         ...         ...         ...   \n11178 2025-04-21 00:00:00-04:00  193.270004  193.800003  189.809998   \n11179 2025-04-22 00:00:00-04:00  196.119995  201.589996  195.970001   \n11180 2025-04-23 00:00:00-04:00  206.000000  208.000000  202.800003   \n11181 2025-04-24 00:00:00-04:00  204.889999  208.830002  202.940002   \n11182 2025-04-25 00:00:00-04:00  206.369995  209.750000  206.199997   \n\n            Close     Volume  Dividends  Stock Splits         Obrot  \n0        0.098726  469033600        0.0           0.0  4.630578e+07  \n1        0.093575  175884800        0.0           0.0  1.645848e+07  \n2        0.086707  105728000        0.0           0.0  9.167368e+06  \n3        0.088853   86441600        0.0           0.0  7.680611e+06  \n4        0.091429   73449600        0.0           0.0  6.715442e+06  \n...           ...        ...        ...           ...           ...  \n11178  193.160004   46742500        0.0           0.0  9.028781e+09  \n11179  199.740005   52976400        0.0           0.0  1.058151e+10  \n11180  204.600006   52929200        0.0           0.0  1.082931e+10  \n11181  208.369995   47311000        0.0           0.0  9.858193e+09  \n11182  209.279999   38198600        0.0           0.0  7.994203e+09  \n\n[11183 rows x 9 columns]",
      "text/html": "<div>\n<style scoped>\n    .dataframe tbody tr th:only-of-type {\n        vertical-align: middle;\n    }\n\n    .dataframe tbody tr th {\n        vertical-align: top;\n    }\n\n    .dataframe thead th {\n        text-align: right;\n    }\n</style>\n<table border=\"1\" class=\"dataframe\">\n  <thead>\n    <tr style=\"text-align: right;\">\n      <th></th>\n      <th>Date</th>\n      <th>Open</th>\n      <th>High</th>\n      <th>Low</th>\n      <th>Close</th>\n      <th>Volume</th>\n      <th>Dividends</th>\n      <th>Stock Splits</th>\n      <th>Obrot</th>\n    </tr>\n  </thead>\n  <tbody>\n    <tr>\n      <th>0</th>\n      <td>1980-12-12 00:00:00-05:00</td>\n      <td>0.098726</td>\n      <td>0.099155</td>\n      <td>0.098726</td>\n      <td>0.098726</td>\n      <td>469033600</td>\n      <td>0.0</td>\n      <td>0.0</td>\n      <td>4.630578e+07</td>\n    </tr>\n    <tr>\n      <th>1</th>\n      <td>1980-12-15 00:00:00-05:00</td>\n      <td>0.094005</td>\n      <td>0.094005</td>\n      <td>0.093575</td>\n      <td>0.093575</td>\n      <td>175884800</td>\n      <td>0.0</td>\n      <td>0.0</td>\n      <td>1.645848e+07</td>\n    </tr>\n    <tr>\n      <th>2</th>\n      <td>1980-12-16 00:00:00-05:00</td>\n      <td>0.087136</td>\n      <td>0.087136</td>\n      <td>0.086707</td>\n      <td>0.086707</td>\n      <td>105728000</td>\n      <td>0.0</td>\n      <td>0.0</td>\n      <td>9.167368e+06</td>\n    </tr>\n    <tr>\n      <th>3</th>\n      <td>1980-12-17 00:00:00-05:00</td>\n      <td>0.088853</td>\n      <td>0.089282</td>\n      <td>0.088853</td>\n      <td>0.088853</td>\n      <td>86441600</td>\n      <td>0.0</td>\n      <td>0.0</td>\n      <td>7.680611e+06</td>\n    </tr>\n    <tr>\n      <th>4</th>\n      <td>1980-12-18 00:00:00-05:00</td>\n      <td>0.091429</td>\n      <td>0.091858</td>\n      <td>0.091429</td>\n      <td>0.091429</td>\n      <td>73449600</td>\n      <td>0.0</td>\n      <td>0.0</td>\n      <td>6.715442e+06</td>\n    </tr>\n    <tr>\n      <th>...</th>\n      <td>...</td>\n      <td>...</td>\n      <td>...</td>\n      <td>...</td>\n      <td>...</td>\n      <td>...</td>\n      <td>...</td>\n      <td>...</td>\n      <td>...</td>\n    </tr>\n    <tr>\n      <th>11178</th>\n      <td>2025-04-21 00:00:00-04:00</td>\n      <td>193.270004</td>\n      <td>193.800003</td>\n      <td>189.809998</td>\n      <td>193.160004</td>\n      <td>46742500</td>\n      <td>0.0</td>\n      <td>0.0</td>\n      <td>9.028781e+09</td>\n    </tr>\n    <tr>\n      <th>11179</th>\n      <td>2025-04-22 00:00:00-04:00</td>\n      <td>196.119995</td>\n      <td>201.589996</td>\n      <td>195.970001</td>\n      <td>199.740005</td>\n      <td>52976400</td>\n      <td>0.0</td>\n      <td>0.0</td>\n      <td>1.058151e+10</td>\n    </tr>\n    <tr>\n      <th>11180</th>\n      <td>2025-04-23 00:00:00-04:00</td>\n      <td>206.000000</td>\n      <td>208.000000</td>\n      <td>202.800003</td>\n      <td>204.600006</td>\n      <td>52929200</td>\n      <td>0.0</td>\n      <td>0.0</td>\n      <td>1.082931e+10</td>\n    </tr>\n    <tr>\n      <th>11181</th>\n      <td>2025-04-24 00:00:00-04:00</td>\n      <td>204.889999</td>\n      <td>208.830002</td>\n      <td>202.940002</td>\n      <td>208.369995</td>\n      <td>47311000</td>\n      <td>0.0</td>\n      <td>0.0</td>\n      <td>9.858193e+09</td>\n    </tr>\n    <tr>\n      <th>11182</th>\n      <td>2025-04-25 00:00:00-04:00</td>\n      <td>206.369995</td>\n      <td>209.750000</td>\n      <td>206.199997</td>\n      <td>209.279999</td>\n      <td>38198600</td>\n      <td>0.0</td>\n      <td>0.0</td>\n      <td>7.994203e+09</td>\n    </tr>\n  </tbody>\n</table>\n<p>11183 rows × 9 columns</p>\n</div>"
     },
     "metadata": {}
    }
   ]
  },
  {
   "metadata": {
    "trusted": true
   },
   "cell_type": "code",
   "source": "",
   "execution_count": null,
   "outputs": []
  }
 ],
 "metadata": {
  "kernelspec": {
   "name": "python3",
   "display_name": "Python 3",
   "language": "python"
  },
  "language_info": {
   "name": "python",
   "version": "3.10.4",
   "mimetype": "text/x-python",
   "codemirror_mode": {
    "name": "ipython",
    "version": 3
   },
   "pygments_lexer": "ipython3",
   "nbconvert_exporter": "python",
   "file_extension": ".py"
  }
 },
 "nbformat": 4,
 "nbformat_minor": 2
}